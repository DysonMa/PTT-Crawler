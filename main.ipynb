{
 "cells": [
  {
   "cell_type": "markdown",
   "metadata": {},
   "source": [
    "##  PTT Crawler\n",
    "main code<br>\n",
    "Author: Dyson Ma"
   ]
  },
  {
   "cell_type": "code",
   "execution_count": 1,
   "metadata": {},
   "outputs": [],
   "source": [
    "from ptt.crawler import * \n",
    "from ptt.schedule import *"
   ]
  },
  {
   "cell_type": "code",
   "execution_count": 2,
   "metadata": {},
   "outputs": [
    {
     "name": "stdout",
     "output_type": "stream",
     "text": [
      "config_path: config.ini\n",
      "deadline: 2020-12-19 00:00:00\n",
      "boardlist: ['Civil', 'Soft_Job', 'NBA']\n",
      "updatePageNum: 1\n",
      "sqlite_path: D:\\ptt_test.db\n"
     ]
    }
   ],
   "source": [
    "# parameters\n",
    "print('config_path:', config_path)\n",
    "print('deadline:', deadline)\n",
    "print('boardlist:', boardlist)\n",
    "print('updatePageNum:', updatePageNum)\n",
    "print('sqlite_path:', sqlite_path)"
   ]
  },
  {
   "cell_type": "code",
   "execution_count": 3,
   "metadata": {},
   "outputs": [
    {
     "name": "stdout",
     "output_type": "stream",
     "text": [
      "https://www.ptt.cc//bbs/civil/index.html\n"
     ]
    }
   ],
   "source": [
    "# get home page(index) weburl \n",
    "website = get_index('civil')\n",
    "print(get_weburl(website))"
   ]
  },
  {
   "cell_type": "code",
   "execution_count": 5,
   "metadata": {
    "scrolled": true
   },
   "outputs": [
    {
     "data": {
      "application/vnd.jupyter.widget-view+json": {
       "model_id": "c2d7b8d2230640c6ad4bd8a153f7c2eb",
       "version_major": 2,
       "version_minor": 0
      },
      "text/plain": [
       "HBox(children=(HTML(value=''), FloatProgress(value=0.0, max=1.0), HTML(value='')))"
      ]
     },
     "metadata": {},
     "output_type": "display_data"
    },
    {
     "data": {
      "application/vnd.jupyter.widget-view+json": {
       "model_id": "98b358da4f854c4e91e58d876bf7bad5",
       "version_major": 2,
       "version_minor": 0
      },
      "text/plain": [
       "HBox(children=(HTML(value=''), FloatProgress(value=1.0, bar_style='info', layout=Layout(width='20px'), max=1.0…"
      ]
     },
     "metadata": {},
     "output_type": "display_data"
    },
    {
     "name": "stdout",
     "output_type": "stream",
     "text": [
      "[徵書] 垃圾焚化廠 系統工程規...\n",
      "[請益] 不動產商業同業公會的「秘書長」職缺分\n",
      "[請益] 如何下戴網頁內的簡報資料??\n",
      "[分享] 北科大營造業工地主任班220小時招生中!\n",
      "[請益] 鋼筋保護層不足，該如何改善\n",
      "/bbs/Civil/M.1607261125.A.DCA.html 此篇找不到文章的時間資訊!!\n",
      "[徵才] 營造廠徵現場工程師(六萬起跳)\n",
      "[請益] 北科大地組教授\n",
      "[請益] 109年土木普考增額志願排序\n",
      "[請益] 相對密度之孔隙率???\n",
      "[請益] 詢問雙喜營造VS.久年營造\n",
      "Re: [請益] 世合工程技術顧問股份有限公司\n",
      "[徵才] 檢測工程師\n",
      "[請益] 有關107年度工地主任考古題的網圖分析計\n",
      "\n",
      "\n"
     ]
    },
    {
     "data": {
      "text/html": [
       "<div>\n",
       "<style scoped>\n",
       "    .dataframe tbody tr th:only-of-type {\n",
       "        vertical-align: middle;\n",
       "    }\n",
       "\n",
       "    .dataframe tbody tr th {\n",
       "        vertical-align: top;\n",
       "    }\n",
       "\n",
       "    .dataframe thead th {\n",
       "        text-align: right;\n",
       "    }\n",
       "</style>\n",
       "<table border=\"1\" class=\"dataframe\">\n",
       "  <thead>\n",
       "    <tr style=\"text-align: right;\">\n",
       "      <th></th>\n",
       "      <th>ArticleID</th>\n",
       "      <th>PushTag</th>\n",
       "      <th>Author</th>\n",
       "      <th>Title</th>\n",
       "      <th>Date</th>\n",
       "      <th>Content</th>\n",
       "      <th>Comment_PushTag</th>\n",
       "      <th>Comment_Content</th>\n",
       "      <th>Comment_ID</th>\n",
       "      <th>Crawler_at</th>\n",
       "    </tr>\n",
       "  </thead>\n",
       "  <tbody>\n",
       "    <tr>\n",
       "      <th>0</th>\n",
       "      <td>M.1606579940.A.D09</td>\n",
       "      <td>1</td>\n",
       "      <td>creetick</td>\n",
       "      <td>[徵書] 垃圾焚化廠 系統工程規...</td>\n",
       "      <td>2020/11/29 00:12:18</td>\n",
       "      <td>各位土木前輩好因環工領域的在這個板也蠻常交流所以想說來徵書看有沒有機會徵到書名：垃圾焚化廠系...</td>\n",
       "      <td>推</td>\n",
       "      <td>: 環工人路過，你可以買固體廢棄物處理(林健三等 編著)</td>\n",
       "      <td>kenopy</td>\n",
       "      <td>2020/12/19 20:03:02</td>\n",
       "    </tr>\n",
       "    <tr>\n",
       "      <th>0</th>\n",
       "      <td>M.1606583411.A.9DF</td>\n",
       "      <td></td>\n",
       "      <td>loby1234</td>\n",
       "      <td>[請益] 不動產商業同業公會的「秘書長」職缺分</td>\n",
       "      <td>2020/11/29 01:10:09</td>\n",
       "      <td>最近朋友想應徵某個不動產商業同業公會，因為朋友沒有帳號，所以幫忙代貼詢問，該項職缺已經刊登在...</td>\n",
       "      <td>→</td>\n",
       "      <td>: 感覺這職務要關係好人面廣，不是擔心是否有加班....</td>\n",
       "      <td>kenopy</td>\n",
       "      <td>2020/12/19 20:03:04</td>\n",
       "    </tr>\n",
       "    <tr>\n",
       "      <th>0</th>\n",
       "      <td>M.1606663856.A.E0E</td>\n",
       "      <td>3</td>\n",
       "      <td>loby1234</td>\n",
       "      <td>[請益] 如何下戴網頁內的簡報資料??</td>\n",
       "      <td>2020/11/29 23:30:53</td>\n",
       "      <td>最近要準備有關鋼筋、模板、混凝土之施工的教育訓練，上網GOOGLE後查到有個不錯簡報資料，想...</td>\n",
       "      <td>推⟴推⟴→⟴→⟴→⟴推⟴→⟴→</td>\n",
       "      <td>: https://i.imgur.com/IDCmooG.jpg⟴: 如果你只需要他的文字...</td>\n",
       "      <td>jan777⟴jan777⟴jan777⟴loby1234⟴loby1234⟴mjnike⟴...</td>\n",
       "      <td>2020/12/19 20:03:06</td>\n",
       "    </tr>\n",
       "    <tr>\n",
       "      <th>0</th>\n",
       "      <td>M.1606717819.A.9CF</td>\n",
       "      <td></td>\n",
       "      <td>bin058</td>\n",
       "      <td>[分享] 北科大營造業工地主任班220小時招生中!</td>\n",
       "      <td>2020/11/30 14:30:17</td>\n",
       "      <td>◎109年度第三期工地主任班預備招生中【預定開課】：12月底開課【考試日期】：110年5月【...</td>\n",
       "      <td></td>\n",
       "      <td></td>\n",
       "      <td></td>\n",
       "      <td>2020/12/19 20:03:07</td>\n",
       "    </tr>\n",
       "    <tr>\n",
       "      <th>0</th>\n",
       "      <td>M.1607007405.A.F5C</td>\n",
       "      <td>10</td>\n",
       "      <td>hopeteam08</td>\n",
       "      <td>[請益] 鋼筋保護層不足，該如何改善</td>\n",
       "      <td>2020/12/03 22:56:43</td>\n",
       "      <td>各位賢拜好，小弟的工地最近被查核，有一個灌漿後保護層厚度不足的缺失，想請教各位賢拜，有什麼方...</td>\n",
       "      <td>推⟴推⟴推⟴→⟴推⟴推⟴→⟴噓⟴→⟴→⟴→⟴→⟴推⟴→⟴推⟴推⟴→⟴→⟴推⟴→⟴→⟴→⟴推⟴推</td>\n",
       "      <td>: 切掉，從新植筋⟴: 先說那個結構部位吧？？？⟴: 不好意思 請教一下保護層不足跟重新植筋...</td>\n",
       "      <td>sda79318⟴GIFT1988⟴harry458030⟴harry458030⟴sean...</td>\n",
       "      <td>2020/12/19 20:03:10</td>\n",
       "    </tr>\n",
       "    <tr>\n",
       "      <th>0</th>\n",
       "      <td>M.1607261125.A.DCA</td>\n",
       "      <td>8</td>\n",
       "      <td>oliviamarco</td>\n",
       "      <td>[徵才] 營造廠徵現場工程師(六萬起跳)</td>\n",
       "      <td>None</td>\n",
       "      <td>[丙級營造廠徵現場工程師] 公司主要承接私人電梯透天建案。 薪資福利: 月薪六萬起跳,視經驗...</td>\n",
       "      <td>推⟴→⟴→⟴推⟴推⟴推⟴→⟴推⟴推⟴推⟴→⟴→⟴推</td>\n",
       "      <td>: 休假制度呢？⟴: 家族企業嗎？如果是的話，要三思⟴: 如果不是年底會心動⟴: 福利？是否...</td>\n",
       "      <td>brain1224⟴loby1234⟴ijklmncc⟴ohwowyee99⟴tb1201⟴...</td>\n",
       "      <td>2020/12/19 20:03:12</td>\n",
       "    </tr>\n",
       "    <tr>\n",
       "      <th>0</th>\n",
       "      <td>M.1607305908.A.06F</td>\n",
       "      <td>5</td>\n",
       "      <td>allen93198</td>\n",
       "      <td>[請益] 北科大地組教授</td>\n",
       "      <td>2020/12/07 09:51:46</td>\n",
       "      <td>各位版上大哥大姐們好：小弟今年有幸錄取北科大地，想請問各位有無推薦的老師或是各個老師的風格，...</td>\n",
       "      <td>推⟴推⟴推⟴推⟴推</td>\n",
       "      <td>: 直接去研究室問學長比較快⟴: 大學給陳立憲教過，很強也很好的老師，推推。⟴: 看他指導學...</td>\n",
       "      <td>sohandsome⟴StayStyle⟴BPM88⟴chiachinlin⟴bin058</td>\n",
       "      <td>2020/12/19 20:03:14</td>\n",
       "    </tr>\n",
       "    <tr>\n",
       "      <th>0</th>\n",
       "      <td>M.1607340913.A.9DC</td>\n",
       "      <td>10</td>\n",
       "      <td>alin1028</td>\n",
       "      <td>[請益] 109年土木普考增額志願排序</td>\n",
       "      <td>2020/12/07 19:35:11</td>\n",
       "      <td>幫朋友代po各位前輩新進大家好，小弟今年有幸錄取普考土木工程類科增額，名次約3X，想填以下職...</td>\n",
       "      <td>推⟴→⟴推⟴→⟴→⟴推⟴推⟴推⟴→⟴→⟴推⟴推⟴→⟴推⟴推⟴推⟴→⟴推⟴噓</td>\n",
       "      <td>: 暖暖不錯⟴: 選12抓爆慣老闆工地⟴: 建議普考不要離開家裡太遠，不然租屋費就要不少，另...</td>\n",
       "      <td>huchain⟴forkyla⟴billy9468677⟴billy9468677⟴bill...</td>\n",
       "      <td>2020/12/19 20:03:16</td>\n",
       "    </tr>\n",
       "    <tr>\n",
       "      <th>0</th>\n",
       "      <td>M.1607784294.A.E0B</td>\n",
       "      <td>6</td>\n",
       "      <td>loby1234</td>\n",
       "      <td>[請益] 相對密度之孔隙率???</td>\n",
       "      <td>2020/12/12 22:44:52</td>\n",
       "      <td>正在上工地主任班，有個題目如下：1經土壤試驗得知某砂性土壤之最小孔隙比為0.65，最大孔隙比...</td>\n",
       "      <td>→⟴→⟴推⟴→⟴推⟴推⟴→⟴推⟴→⟴推⟴推</td>\n",
       "      <td>: 慘....找本施老的書看看吧⟴: 相對密度=(emax-e)/(emax-emin)⟴:...</td>\n",
       "      <td>tzshian⟴SHYeh63⟴BPM88⟴Roundb⟴clark86913⟴kiba⟴b...</td>\n",
       "      <td>2020/12/19 20:03:18</td>\n",
       "    </tr>\n",
       "    <tr>\n",
       "      <th>0</th>\n",
       "      <td>M.1608023899.A.19C</td>\n",
       "      <td>3</td>\n",
       "      <td>yinling89</td>\n",
       "      <td>[請益] 詢問雙喜營造VS.久年營造</td>\n",
       "      <td>2020/12/15 17:18:17</td>\n",
       "      <td>代PO目前本人兩年左右營造廠資歷想請問版上的前輩們以下的營造廠跟職涯路線哪個好雙喜營造現場工...</td>\n",
       "      <td>推⟴推⟴推⟴→</td>\n",
       "      <td>: 個人推久年⟴: 久年我待過 我覺得算很好的營造廠了⟴: 久年算正派經營⟴: 謝謝各位答覆...</td>\n",
       "      <td>jf6203⟴handsomeeric⟴lariat⟴yinling89</td>\n",
       "      <td>2020/12/19 20:03:20</td>\n",
       "    </tr>\n",
       "    <tr>\n",
       "      <th>0</th>\n",
       "      <td>M.1608025220.A.B4F</td>\n",
       "      <td>3</td>\n",
       "      <td>loby1234</td>\n",
       "      <td>Re: [請益] 世合工程技術顧問股份有限公司</td>\n",
       "      <td>2020/12/15 17:40:18</td>\n",
       "      <td>這間公司目前在高雄也有開缺，缺監造工程師，不知道待遇跟環境如何？如果應徵監造工程師的話，大概...</td>\n",
       "      <td>推⟴→⟴→⟴→⟴推⟴→⟴推⟴推⟴→⟴→</td>\n",
       "      <td>: 監造不就是現場品質控制，內業文書，工程查核，變更之⟴: 類的嗎⟴: 都差不多啦.⟴: 人...</td>\n",
       "      <td>k71398426⟴k71398426⟴eks9527⟴GodZack⟴ianlcc⟴sxi...</td>\n",
       "      <td>2020/12/19 20:03:21</td>\n",
       "    </tr>\n",
       "    <tr>\n",
       "      <th>0</th>\n",
       "      <td>M.1608284002.A.11A</td>\n",
       "      <td></td>\n",
       "      <td>k71398426</td>\n",
       "      <td>[徵才] 檢測工程師</td>\n",
       "      <td>2020/12/18 17:33:20</td>\n",
       "      <td>【公司名稱】台灣整合防災工程技術顧問有限公司【工作職缺】檢測工程師【工作內容】橋梁檢測及相關...</td>\n",
       "      <td></td>\n",
       "      <td></td>\n",
       "      <td></td>\n",
       "      <td>2020/12/19 20:03:23</td>\n",
       "    </tr>\n",
       "    <tr>\n",
       "      <th>0</th>\n",
       "      <td>M.1608312617.A.2E4</td>\n",
       "      <td>2</td>\n",
       "      <td>brdemoved</td>\n",
       "      <td>[請益] 有關107年度工地主任考古題的網圖分析計</td>\n",
       "      <td>2020/12/19 01:30:15</td>\n",
       "      <td>想請教有關107年度工地主任考古題的網圖分析計算，題目如下：https://i.imgur....</td>\n",
       "      <td>推⟴推⟴→⟴→⟴→⟴→⟴→</td>\n",
       "      <td>: CADB？⟴: 第一題（38）不會就是整個不懂了…⟴: CPM/PERT⟴: 前面E=最...</td>\n",
       "      <td>PttBladder⟴Roundb⟴Roundb⟴Roundb⟴Roundb⟴Roundb⟴...</td>\n",
       "      <td>2020/12/19 20:03:25</td>\n",
       "    </tr>\n",
       "  </tbody>\n",
       "</table>\n",
       "</div>"
      ],
      "text/plain": [
       "            ArticleID PushTag       Author                      Title  \\\n",
       "0  M.1606579940.A.D09       1     creetick        [徵書] 垃圾焚化廠 系統工程規...   \n",
       "0  M.1606583411.A.9DF             loby1234    [請益] 不動產商業同業公會的「秘書長」職缺分   \n",
       "0  M.1606663856.A.E0E       3     loby1234        [請益] 如何下戴網頁內的簡報資料??   \n",
       "0  M.1606717819.A.9CF               bin058  [分享] 北科大營造業工地主任班220小時招生中!   \n",
       "0  M.1607007405.A.F5C      10   hopeteam08         [請益] 鋼筋保護層不足，該如何改善   \n",
       "0  M.1607261125.A.DCA       8  oliviamarco       [徵才] 營造廠徵現場工程師(六萬起跳)   \n",
       "0  M.1607305908.A.06F       5   allen93198               [請益] 北科大地組教授   \n",
       "0  M.1607340913.A.9DC      10     alin1028        [請益] 109年土木普考增額志願排序   \n",
       "0  M.1607784294.A.E0B       6     loby1234           [請益] 相對密度之孔隙率???   \n",
       "0  M.1608023899.A.19C       3    yinling89         [請益] 詢問雙喜營造VS.久年營造   \n",
       "0  M.1608025220.A.B4F       3     loby1234    Re: [請益] 世合工程技術顧問股份有限公司   \n",
       "0  M.1608284002.A.11A            k71398426                 [徵才] 檢測工程師   \n",
       "0  M.1608312617.A.2E4       2    brdemoved  [請益] 有關107年度工地主任考古題的網圖分析計   \n",
       "\n",
       "                  Date                                            Content  \\\n",
       "0  2020/11/29 00:12:18  各位土木前輩好因環工領域的在這個板也蠻常交流所以想說來徵書看有沒有機會徵到書名：垃圾焚化廠系...   \n",
       "0  2020/11/29 01:10:09  最近朋友想應徵某個不動產商業同業公會，因為朋友沒有帳號，所以幫忙代貼詢問，該項職缺已經刊登在...   \n",
       "0  2020/11/29 23:30:53  最近要準備有關鋼筋、模板、混凝土之施工的教育訓練，上網GOOGLE後查到有個不錯簡報資料，想...   \n",
       "0  2020/11/30 14:30:17  ◎109年度第三期工地主任班預備招生中【預定開課】：12月底開課【考試日期】：110年5月【...   \n",
       "0  2020/12/03 22:56:43  各位賢拜好，小弟的工地最近被查核，有一個灌漿後保護層厚度不足的缺失，想請教各位賢拜，有什麼方...   \n",
       "0                 None  [丙級營造廠徵現場工程師] 公司主要承接私人電梯透天建案。 薪資福利: 月薪六萬起跳,視經驗...   \n",
       "0  2020/12/07 09:51:46  各位版上大哥大姐們好：小弟今年有幸錄取北科大地，想請問各位有無推薦的老師或是各個老師的風格，...   \n",
       "0  2020/12/07 19:35:11  幫朋友代po各位前輩新進大家好，小弟今年有幸錄取普考土木工程類科增額，名次約3X，想填以下職...   \n",
       "0  2020/12/12 22:44:52  正在上工地主任班，有個題目如下：1經土壤試驗得知某砂性土壤之最小孔隙比為0.65，最大孔隙比...   \n",
       "0  2020/12/15 17:18:17  代PO目前本人兩年左右營造廠資歷想請問版上的前輩們以下的營造廠跟職涯路線哪個好雙喜營造現場工...   \n",
       "0  2020/12/15 17:40:18  這間公司目前在高雄也有開缺，缺監造工程師，不知道待遇跟環境如何？如果應徵監造工程師的話，大概...   \n",
       "0  2020/12/18 17:33:20  【公司名稱】台灣整合防災工程技術顧問有限公司【工作職缺】檢測工程師【工作內容】橋梁檢測及相關...   \n",
       "0  2020/12/19 01:30:15  想請教有關107年度工地主任考古題的網圖分析計算，題目如下：https://i.imgur....   \n",
       "\n",
       "                                   Comment_PushTag  \\\n",
       "0                                                推   \n",
       "0                                                →   \n",
       "0                                  推⟴推⟴→⟴→⟴→⟴推⟴→⟴→   \n",
       "0                                                    \n",
       "0  推⟴推⟴推⟴→⟴推⟴推⟴→⟴噓⟴→⟴→⟴→⟴→⟴推⟴→⟴推⟴推⟴→⟴→⟴推⟴→⟴→⟴→⟴推⟴推   \n",
       "0                        推⟴→⟴→⟴推⟴推⟴推⟴→⟴推⟴推⟴推⟴→⟴→⟴推   \n",
       "0                                        推⟴推⟴推⟴推⟴推   \n",
       "0            推⟴→⟴推⟴→⟴→⟴推⟴推⟴推⟴→⟴→⟴推⟴推⟴→⟴推⟴推⟴推⟴→⟴推⟴噓   \n",
       "0                            →⟴→⟴推⟴→⟴推⟴推⟴→⟴推⟴→⟴推⟴推   \n",
       "0                                          推⟴推⟴推⟴→   \n",
       "0                              推⟴→⟴→⟴→⟴推⟴→⟴推⟴推⟴→⟴→   \n",
       "0                                                    \n",
       "0                                    推⟴推⟴→⟴→⟴→⟴→⟴→   \n",
       "\n",
       "                                     Comment_Content  \\\n",
       "0                       : 環工人路過，你可以買固體廢棄物處理(林健三等 編著)   \n",
       "0                       : 感覺這職務要關係好人面廣，不是擔心是否有加班....   \n",
       "0  : https://i.imgur.com/IDCmooG.jpg⟴: 如果你只需要他的文字...   \n",
       "0                                                      \n",
       "0  : 切掉，從新植筋⟴: 先說那個結構部位吧？？？⟴: 不好意思 請教一下保護層不足跟重新植筋...   \n",
       "0  : 休假制度呢？⟴: 家族企業嗎？如果是的話，要三思⟴: 如果不是年底會心動⟴: 福利？是否...   \n",
       "0  : 直接去研究室問學長比較快⟴: 大學給陳立憲教過，很強也很好的老師，推推。⟴: 看他指導學...   \n",
       "0  : 暖暖不錯⟴: 選12抓爆慣老闆工地⟴: 建議普考不要離開家裡太遠，不然租屋費就要不少，另...   \n",
       "0  : 慘....找本施老的書看看吧⟴: 相對密度=(emax-e)/(emax-emin)⟴:...   \n",
       "0  : 個人推久年⟴: 久年我待過 我覺得算很好的營造廠了⟴: 久年算正派經營⟴: 謝謝各位答覆...   \n",
       "0  : 監造不就是現場品質控制，內業文書，工程查核，變更之⟴: 類的嗎⟴: 都差不多啦.⟴: 人...   \n",
       "0                                                      \n",
       "0  : CADB？⟴: 第一題（38）不會就是整個不懂了…⟴: CPM/PERT⟴: 前面E=最...   \n",
       "\n",
       "                                          Comment_ID           Crawler_at  \n",
       "0                                             kenopy  2020/12/19 20:03:02  \n",
       "0                                             kenopy  2020/12/19 20:03:04  \n",
       "0  jan777⟴jan777⟴jan777⟴loby1234⟴loby1234⟴mjnike⟴...  2020/12/19 20:03:06  \n",
       "0                                                     2020/12/19 20:03:07  \n",
       "0  sda79318⟴GIFT1988⟴harry458030⟴harry458030⟴sean...  2020/12/19 20:03:10  \n",
       "0  brain1224⟴loby1234⟴ijklmncc⟴ohwowyee99⟴tb1201⟴...  2020/12/19 20:03:12  \n",
       "0      sohandsome⟴StayStyle⟴BPM88⟴chiachinlin⟴bin058  2020/12/19 20:03:14  \n",
       "0  huchain⟴forkyla⟴billy9468677⟴billy9468677⟴bill...  2020/12/19 20:03:16  \n",
       "0  tzshian⟴SHYeh63⟴BPM88⟴Roundb⟴clark86913⟴kiba⟴b...  2020/12/19 20:03:18  \n",
       "0               jf6203⟴handsomeeric⟴lariat⟴yinling89  2020/12/19 20:03:20  \n",
       "0  k71398426⟴k71398426⟴eks9527⟴GodZack⟴ianlcc⟴sxi...  2020/12/19 20:03:21  \n",
       "0                                                     2020/12/19 20:03:23  \n",
       "0  PttBladder⟴Roundb⟴Roundb⟴Roundb⟴Roundb⟴Roundb⟴...  2020/12/19 20:03:25  "
      ]
     },
     "execution_count": 5,
     "metadata": {},
     "output_type": "execute_result"
    }
   ],
   "source": [
    "# Crawl the PTT website by Page\n",
    "df = CrawlingByPage(website, page=1)\n",
    "df"
   ]
  },
  {
   "cell_type": "code",
   "execution_count": 6,
   "metadata": {
    "scrolled": false
   },
   "outputs": [
    {
     "name": "stdout",
     "output_type": "stream",
     "text": [
      "/bbs/Civil/M.1607261125.A.DCA.html 此篇找不到文章的時間資訊!!\n",
      "[請益] 有關107年度工地主任考古題的網圖分析計 2020/12/19 01:30:15\n"
     ]
    },
    {
     "data": {
      "text/html": [
       "<div>\n",
       "<style scoped>\n",
       "    .dataframe tbody tr th:only-of-type {\n",
       "        vertical-align: middle;\n",
       "    }\n",
       "\n",
       "    .dataframe tbody tr th {\n",
       "        vertical-align: top;\n",
       "    }\n",
       "\n",
       "    .dataframe thead th {\n",
       "        text-align: right;\n",
       "    }\n",
       "</style>\n",
       "<table border=\"1\" class=\"dataframe\">\n",
       "  <thead>\n",
       "    <tr style=\"text-align: right;\">\n",
       "      <th></th>\n",
       "      <th>ArticleID</th>\n",
       "      <th>PushTag</th>\n",
       "      <th>Author</th>\n",
       "      <th>Title</th>\n",
       "      <th>Date</th>\n",
       "      <th>Content</th>\n",
       "      <th>Comment_PushTag</th>\n",
       "      <th>Comment_Content</th>\n",
       "      <th>Comment_ID</th>\n",
       "      <th>Crawler_at</th>\n",
       "    </tr>\n",
       "  </thead>\n",
       "  <tbody>\n",
       "    <tr>\n",
       "      <th>0</th>\n",
       "      <td>M.1608312617.A.2E4</td>\n",
       "      <td>2</td>\n",
       "      <td>brdemoved</td>\n",
       "      <td>[請益] 有關107年度工地主任考古題的網圖分析計</td>\n",
       "      <td>2020/12/19 01:30:15</td>\n",
       "      <td>想請教有關107年度工地主任考古題的網圖分析計算，題目如下：https://i.imgur....</td>\n",
       "      <td>推⟴推⟴→⟴→⟴→⟴→⟴→</td>\n",
       "      <td>: CADB？⟴: 第一題（38）不會就是整個不懂了…⟴: CPM/PERT⟴: 前面E=最...</td>\n",
       "      <td>PttBladder⟴Roundb⟴Roundb⟴Roundb⟴Roundb⟴Roundb⟴...</td>\n",
       "      <td>2020/12/19 20:03:52</td>\n",
       "    </tr>\n",
       "  </tbody>\n",
       "</table>\n",
       "</div>"
      ],
      "text/plain": [
       "            ArticleID PushTag     Author                      Title  \\\n",
       "0  M.1608312617.A.2E4       2  brdemoved  [請益] 有關107年度工地主任考古題的網圖分析計   \n",
       "\n",
       "                  Date                                            Content  \\\n",
       "0  2020/12/19 01:30:15  想請教有關107年度工地主任考古題的網圖分析計算，題目如下：https://i.imgur....   \n",
       "\n",
       "  Comment_PushTag                                    Comment_Content  \\\n",
       "0   推⟴推⟴→⟴→⟴→⟴→⟴→  : CADB？⟴: 第一題（38）不會就是整個不懂了…⟴: CPM/PERT⟴: 前面E=最...   \n",
       "\n",
       "                                          Comment_ID           Crawler_at  \n",
       "0  PttBladder⟴Roundb⟴Roundb⟴Roundb⟴Roundb⟴Roundb⟴...  2020/12/19 20:03:52  "
      ]
     },
     "execution_count": 6,
     "metadata": {},
     "output_type": "execute_result"
    }
   ],
   "source": [
    "# Crawl the PTT webiste by date\n",
    "df = CrawlingByDate(website, deadline, save=False)\n",
    "df"
   ]
  },
  {
   "cell_type": "code",
   "execution_count": 2,
   "metadata": {},
   "outputs": [
    {
     "name": "stdout",
     "output_type": "stream",
     "text": [
      "爬蟲停止時間: 2020-12-19 00:00:00\n",
      "爬取板名: ['Beauty', 'Soft_Job', 'NBA', 'Stock', 'Tech_Job']\n",
      "停止爬蟲後，往前更新頁數: 1\n"
     ]
    },
    {
     "data": {
      "application/vnd.jupyter.widget-view+json": {
       "model_id": "8b92fb3751a644e78f4420165cc59bc3",
       "version_major": 2,
       "version_minor": 0
      },
      "text/plain": [
       "HBox(children=(HTML(value=''), FloatProgress(value=0.0, max=5.0), HTML(value='')))"
      ]
     },
     "metadata": {},
     "output_type": "display_data"
    },
    {
     "name": "stdout",
     "output_type": "stream",
     "text": [
      "[正妹] 桃乃木香奈 已更新!\n",
      "[正妹] 短髮 已更新!\n",
      "[正妹] 搞怪又漂亮 已更新!\n",
      "[正妹] 她只有這套泳裝 已更新!\n",
      "[正妹] 極度誘惑 已更新!\n",
      "[正妹] 政治大學 已更新!\n",
      "[正妹] S line 已更新!\n",
      "[正妹] 汀汀老師 已更新!\n",
      "[正妹] 朴恩斌 已更新!\n",
      "[正妹] CLC Elkie 莊錠欣 已更新!\n",
      "[正妹] 飛輪這樣騎對嗎? 已更新!\n",
      "[正妹] 聖誕紅 已更新!\n",
      "[正妹] 西台灣奶子== 不喜左轉== 已更新!\n",
      "[正妹] 紅的喜氣 已更新!\n",
      "[正妹] Eunbig 已更新!\n",
      "[正妹] 應該是安親班老師 已更新!\n",
      "[正妹] AlexandraDaddario 又大又凸 已更新!\n",
      "/bbs/Beauty/index3519.html\n"
     ]
    },
    {
     "data": {
      "application/vnd.jupyter.widget-view+json": {
       "model_id": "175ae0a0297f491f8bbedb8e1e757598",
       "version_major": 2,
       "version_minor": 0
      },
      "text/plain": [
       "HBox(children=(HTML(value=''), FloatProgress(value=0.0, max=1.0), HTML(value='')))"
      ]
     },
     "metadata": {},
     "output_type": "display_data"
    },
    {
     "data": {
      "application/vnd.jupyter.widget-view+json": {
       "model_id": "2d392ef8bb604762b22877b8939d156b",
       "version_major": 2,
       "version_minor": 0
      },
      "text/plain": [
       "HBox(children=(HTML(value=''), FloatProgress(value=1.0, bar_style='info', layout=Layout(width='20px'), max=1.0…"
      ]
     },
     "metadata": {},
     "output_type": "display_data"
    },
    {
     "name": "stdout",
     "output_type": "stream",
     "text": [
      "[正妹] 大河もも\n",
      "[正妹] 吳季璇 Winnie\n",
      "[正妹] 港女\n",
      "[正妹] 渡假\n",
      "[公告] 水桶\n",
      "[正妹] 睡顏\n",
      "[正妹] 11歲安親班老師\n",
      "[正妹] 小黑馬\n",
      "[正妹] 美女病顏\n",
      "[正妹] 韓國\n",
      "[正妹] 法國不老神顏\n",
      "[公告] 水桶\n",
      "[神人] 制服\n",
      "[正妹] HARUKA\n",
      "[正妹] 新加坡生氣的網紅\n",
      "[正妹] うたたね翠\n",
      "[正妹] 調酒\n",
      "[正妹] 黒石莉世\n",
      "[正妹] Flor\n",
      "\n",
      "\n",
      "\n",
      "------------Beauty is end--------------\n",
      "\n",
      "[徵才] Dcard 誠徵 web/app 開發者 900k~1.6m/年 已更新!\n",
      "[徵才] RuntheWorld 徵前端 2m~4m/年 (遠距) 已更新!\n",
      "[心得] Labview工程師十年有感 已更新!\n",
      "[請益] 結婚剛生小孩的大大們要怎麼找時間充實 已更新!\n",
      "[徵才] 矽谷新創資深遊戲軟體開發工程師 已更新!\n",
      "Re: [請益] 結婚剛生小孩的大大們要怎麼找時間充實 已更新!\n",
      "Fw: [徵才] 新加坡 Quotz 招募 台灣技術團隊負責人 已更新!\n",
      "Fw: [徵才] 神準科技 招募 雲端軟體研發主管 等職務 已更新!\n",
      "Fw: [徵才] SmartBee 招募 前後端/DevOps/PM 職位 已更新!\n",
      "[請益] VB.net vs Node.js 無背景轉職選擇 已更新!\n",
      "Re: [心得] 無經驗轉職後端工程師 已更新!\n",
      "[請益] 新加坡 offer 已更新!\n",
      "[徵才］百睿達誠徵軟體測試工程師(QA) 已更新!\n",
      "Re: [心得] Labview工程師十年有感 已更新!\n",
      "[請益] 中年轉職選擇: BI大數據vs iOS開發工程師 已更新!\n",
      "[心得] 中年轉職，二轉加薪 已更新!\n",
      "Re: [請益] 中年轉職選擇: BI大數據vs iOS開發工程師 已更新!\n",
      "/bbs/Soft_Job/index1613.html\n"
     ]
    },
    {
     "data": {
      "application/vnd.jupyter.widget-view+json": {
       "model_id": "d6b8e96e4a814e51b220da798377585c",
       "version_major": 2,
       "version_minor": 0
      },
      "text/plain": [
       "HBox(children=(HTML(value=''), FloatProgress(value=0.0, max=1.0), HTML(value='')))"
      ]
     },
     "metadata": {},
     "output_type": "display_data"
    },
    {
     "data": {
      "application/vnd.jupyter.widget-view+json": {
       "model_id": "ee37c4049f41487881c43bd8caa1b151",
       "version_major": 2,
       "version_minor": 0
      },
      "text/plain": [
       "HBox(children=(HTML(value=''), FloatProgress(value=1.0, bar_style='info', layout=Layout(width='20px'), max=1.0…"
      ]
     },
     "metadata": {},
     "output_type": "display_data"
    },
    {
     "name": "stdout",
     "output_type": "stream",
     "text": [
      "[徵才] 特力智慧/AWS亞馬遜運維工程師 80K UP\n",
      "[徵才] 國泰IT’s Time資訊人才招募中\n",
      "[問卷] 職場互動調查 (贈p幣+抽千元禮券！)\n",
      "[請益] 訊真科技近況？\n",
      "[徵才] Operations Engineer\n",
      "[徵才] 汪喵星球_Wordpress網頁工程師\n",
      "Re: [請益] 資策會Java與C#選擇\n",
      "[心得] 換跑道看到博弈公司需要工程師面試感想\n",
      "[請益] 應徵最初階Android工程師最少需要會什麼?\n",
      "Re: [請益] 資策會Java與C#選擇\n",
      "Re: [請益] 資策會Java與C#選擇\n",
      "[心得] 伊頓婚紗\n",
      "[請益] 關於sass編譯問題\n",
      "Re: [請益] 資策會Java與C#選擇\n",
      "[心得]以策略模式重構switch case或if (影片)\n",
      "[請益] 36歲了是不是該去考公務員了？\n",
      "[請益] 要從銀行業IT跳出來，要學哪些語言比較\n",
      "\n",
      "\n",
      "\n",
      "------------Soft_Job is end--------------\n",
      "\n",
      "[花邊] 一女子指控Rondo及女友因停車糾紛對其毆打 已更新!\n",
      "[新聞] 與P-League合作 Davis承諾協助招募洋將 已更新!\n",
      "[BOX ] Lakers 114:113 Suns 熱身賽數據 已更新!\n",
      "[花邊] 不認同戴維斯是中鋒 歐尼爾糾正該跟鄧肯 已更新!\n",
      "[情報] KI談燒鼠尾草:這種儀式來自土著部落 打算 已更新!\n",
      "[情報] 庫班:Dirk喜歡長約保障,LBJ跳約是相信自己 已更新!\n",
      "[討論] 2010年的太陽是怎麼橫掃馬刺的? 已更新!\n",
      "[新聞] AD：Tucker 本賽季對我們非常重要，他的 已更新!\n",
      "[新聞] 暴龍「北國變南國」！帶2019冠軍旗掛新 已更新!\n",
      "[討論] Bridges腳勾到LBJ導致重摔(與LBJ推他無關) 2020/12/19 18:47:08\n",
      "[新聞] 公鹿有意續留哈勒戴 年均薪預計3千萬美元 2020/12/19 19:11:23\n",
      "/bbs/NBA/index6514.html\n"
     ]
    },
    {
     "data": {
      "application/vnd.jupyter.widget-view+json": {
       "model_id": "6a8766663cdf4933878820822dab7ea7",
       "version_major": 2,
       "version_minor": 0
      },
      "text/plain": [
       "HBox(children=(HTML(value=''), FloatProgress(value=0.0, max=1.0), HTML(value='')))"
      ]
     },
     "metadata": {},
     "output_type": "display_data"
    },
    {
     "data": {
      "application/vnd.jupyter.widget-view+json": {
       "model_id": "a4de3b75d9cd4d1385a8bc5f68dd9aa7",
       "version_major": 2,
       "version_minor": 0
      },
      "text/plain": [
       "HBox(children=(HTML(value=''), FloatProgress(value=1.0, bar_style='info', layout=Layout(width='20px'), max=1.0…"
      ]
     },
     "metadata": {},
     "output_type": "display_data"
    },
    {
     "name": "stdout",
     "output_type": "stream",
     "text": [
      "[Live] 公鹿 @ 鵜鶘\n",
      "[BOX ] Sixers 113:107 Pacers 熱身賽數據\n",
      "[花邊] 情誼依舊！Irving賽前與Tatum擁抱致意\n",
      "[情報] 起訴男子提供West電話錄音，稱可愛不會想\n",
      "[BOX ] Heat 117:105 Raptors 熱身賽數據\n",
      "Re: [情報] 起訴男子提供West電話錄音，稱可愛不會想\n",
      "[BOX ] Cavaliers 83:119 Knicks 熱身賽數據\n",
      "[Live] 湖人 @ 太陽\n",
      "[花邊] 記者：聯盟表示湖人將在對陣快艇的揭幕戰\n",
      "[BOX ] Nets 113:89 Celtics 熱身賽數據\n",
      "[情報] Derrick Jones Jr.因背部挫傷離場\n",
      "Re: [情報] 哈登稱讚教練.牆哥.表弟\n",
      "[情報] 雷霆裁掉TJ Leaf、Admiral Schofield\n",
      "[BOX ] Bucks 113:127 Pelicans 熱身賽數據\n",
      "Re: [情報] 哈登稱讚教練.牆哥.表弟\n",
      "[BOX ] Bulls 105:103 Thunder 熱身賽數據\n",
      "[花邊] Griffin在衝突後嘲諷式微笑\n",
      "[花邊] Baron Davis加入台灣PLG股東行列\n",
      "[情報] 歷年GM季前調查 各位置最佳球員&最想基石\n",
      "[BOX ] Trail Blazers 96:129 Nuggets 熱身賽數據\n",
      "\n",
      "\n",
      "File \"C:\\Users\\madi\\Desktop\\專案作品\\ptt\\crawler.py\", line 167, in _update_data: [OperationalError] near \"s\": syntax error\n",
      "\n",
      "------------NBA is end--------------\n",
      "\n",
      "[請益] 一堆被動基金在山頂買特斯拉? 已更新!\n",
      "[新聞] 驚！郭台銘曝董座劉揚偉接班不加薪　定 已更新!\n",
      "[標的] 鮮活果汁 已更新!\n",
      "[新聞] 中國無人機大廠大疆創新 遭美國列入貿易 已更新!\n",
      "[新聞] Intel 又被捨棄了？微軟傳跟進蘋果 已更新!\n",
      "[新聞] 外資默默買京元電子、至上 13檔高殖利率 已更新!\n",
      "Re: [新聞] Intel 又被捨棄了？微軟傳跟進蘋果 已更新!\n",
      "[新聞] 螞蟻集團整頓持續 網路存款產品全面下架 已更新!\n",
      "[新聞] Zoom中國高管遭美通緝！涉嫌監控香港示威與六四紀念活動，向 已更新!\n",
      "[請益] 油價和石油公司股價的關聯性 2020/12/19 18:49:44\n",
      "[請益] ETF如何處理現增、收購？ 2020/12/19 19:03:50\n",
      "Re: [新聞] Intel 又被捨棄了？微軟傳跟進蘋果 2020/12/19 19:12:49\n",
      "[新聞] 緯創印度廠爆發暴動事件 蘋果：暫緩下新 2020/12/19 19:15:13\n",
      "[新聞] 台積電7奈米助攻AMD 微軟投以愛慕眼光 2020/12/19 19:26:32\n",
      "/bbs/Stock/index5020.html\n"
     ]
    },
    {
     "data": {
      "application/vnd.jupyter.widget-view+json": {
       "model_id": "9a770264078442ea95046f09822f53e1",
       "version_major": 2,
       "version_minor": 0
      },
      "text/plain": [
       "HBox(children=(HTML(value=''), FloatProgress(value=0.0, max=1.0), HTML(value='')))"
      ]
     },
     "metadata": {},
     "output_type": "display_data"
    },
    {
     "data": {
      "application/vnd.jupyter.widget-view+json": {
       "model_id": "1b68ca0ff0e9442a84b819348be984db",
       "version_major": 2,
       "version_minor": 0
      },
      "text/plain": [
       "HBox(children=(HTML(value=''), FloatProgress(value=1.0, bar_style='info', layout=Layout(width='20px'), max=1.0…"
      ]
     },
     "metadata": {},
     "output_type": "display_data"
    },
    {
     "name": "stdout",
     "output_type": "stream",
     "text": [
      "[心得] 貨櫃航運市場分析\n",
      "[請益] 晶電和隆達合併\n",
      "[新聞] 特斯拉納標普撞四巫日 最瘋狂交易量來襲\n",
      "[新聞] 緯創印度廠暴動初步調查 資方和勞務公司\n",
      "[請益] 散戶用海外券商0手續費 但法人卻有手續費\n",
      "[標的] 欣興 多\n",
      "Re: [標的] 投資美股all in 特斯拉可行嗎？\n",
      "[新聞] 各國政府添柴火 18檔電動車概念股疾駛\n",
      "[新聞] 滿手美元怎麼辦？ 謝金河：美方弱勢須靠\n",
      "Re: [新聞] 滿手美元怎麼辦？ 謝金河：美方弱勢須靠\n",
      "[新聞] 哈佛學者呼籲禁止特斯拉用車主實驗自駕車\n",
      "[心得] 台股崩盤論之我見\n",
      "[新聞] 美股四巫日集體收黑 特斯拉大漲6％創新高\n",
      "Re: [新聞] 楊金龍：升息打炒房大而不當\n",
      "[請益] 0050管理費怎麼那麼高！？\n",
      "\n",
      "\n",
      "\n",
      "------------Stock is end--------------\n",
      "\n",
      "[新聞] 日月光高雄廠發紅包 每人1萬 已更新!\n",
      "[新聞] 緯創印度廠暴動初步調查 資方和勞務公司 已更新!\n",
      "[新聞] 全球現晶片荒 外媒：台積電產能恐達極限 已更新!\n",
      "[新聞] 全國科學技術會議21日舉行 擘劃科技發展方針 已更新!\n",
      "/bbs/Tech_Job/index3901.html\n"
     ]
    },
    {
     "data": {
      "application/vnd.jupyter.widget-view+json": {
       "model_id": "4ab5d2f6f356474ea9b9f1dc24c410e3",
       "version_major": 2,
       "version_minor": 0
      },
      "text/plain": [
       "HBox(children=(HTML(value=''), FloatProgress(value=0.0, max=1.0), HTML(value='')))"
      ]
     },
     "metadata": {},
     "output_type": "display_data"
    },
    {
     "data": {
      "application/vnd.jupyter.widget-view+json": {
       "model_id": "0ecf5e369ec94caeb636b212fac32220",
       "version_major": 2,
       "version_minor": 0
      },
      "text/plain": [
       "HBox(children=(HTML(value=''), FloatProgress(value=1.0, bar_style='info', layout=Layout(width='20px'), max=1.0…"
      ]
     },
     "metadata": {},
     "output_type": "display_data"
    },
    {
     "name": "stdout",
     "output_type": "stream",
     "text": [
      "[聘書] mtk 外商\n",
      "[新聞] Google實驗 3天進公司、2天在家\n",
      "[新聞] 鴻海MIH電動車軟硬體及關鍵零組件平台 全\n",
      "[問卷]工作者的工作狀況調查\n",
      "[新聞] 109年11月新申請案電子申請統計\n",
      "[請益] 旺宏研替請益\n",
      "[新聞] 消息稱中芯國際將針對EUV光刻機與ASML談\n",
      "Re: [新聞] 華碩小編自稱「中國公司」 網友灌爆臉書\n",
      "[討論]GG線上測驗100% 野雞中字大 面試過關機會?\n",
      "[新聞] 對叛將梁孟松評價如何？張忠謀說話了\n",
      "[請益] offer 請益\n",
      "Re: [新聞] Google實驗 3天進公司、2天在家\n",
      "Fw: [新聞] 梁孟松辭職信述說自己功績，中國讀者投書\n",
      "\n",
      "\n",
      "\n",
      "------------Tech_Job is end--------------\n",
      "\n",
      "\n"
     ]
    }
   ],
   "source": [
    "# FirstCrawling or SecondCrawling\n",
    "schedule()"
   ]
  },
  {
   "cell_type": "code",
   "execution_count": null,
   "metadata": {},
   "outputs": [],
   "source": []
  },
  {
   "cell_type": "code",
   "execution_count": null,
   "metadata": {},
   "outputs": [],
   "source": []
  },
  {
   "cell_type": "code",
   "execution_count": null,
   "metadata": {},
   "outputs": [],
   "source": []
  },
  {
   "cell_type": "code",
   "execution_count": null,
   "metadata": {},
   "outputs": [],
   "source": []
  },
  {
   "cell_type": "code",
   "execution_count": null,
   "metadata": {},
   "outputs": [],
   "source": []
  },
  {
   "cell_type": "code",
   "execution_count": null,
   "metadata": {},
   "outputs": [],
   "source": []
  },
  {
   "cell_type": "code",
   "execution_count": null,
   "metadata": {},
   "outputs": [],
   "source": []
  }
 ],
 "metadata": {
  "kernelspec": {
   "display_name": "Python 3",
   "language": "python",
   "name": "python3"
  },
  "language_info": {
   "codemirror_mode": {
    "name": "ipython",
    "version": 3
   },
   "file_extension": ".py",
   "mimetype": "text/x-python",
   "name": "python",
   "nbconvert_exporter": "python",
   "pygments_lexer": "ipython3",
   "version": "3.8.5"
  }
 },
 "nbformat": 4,
 "nbformat_minor": 4
}
