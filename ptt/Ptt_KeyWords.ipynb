{
 "cells": [
  {
   "cell_type": "markdown",
   "metadata": {},
   "source": [
    "# 關鍵字查詢V2"
   ]
  },
  {
   "cell_type": "code",
   "execution_count": null,
   "metadata": {},
   "outputs": [],
   "source": [
    "import os\n",
    "import pandas as pd\n",
    "import numpy as np\n",
    "from tqdm import tqdm_notebook\n",
    "from matplotlib import pyplot as plt\n",
    "import seaborn as sns; sns.set()\n",
    "import re\n",
    "import gc"
   ]
  },
  {
   "cell_type": "code",
   "execution_count": null,
   "metadata": {},
   "outputs": [],
   "source": [
    "# KeyWords1 = list(set([\"國防部\",\"國防預算\",\"國防政策\",\"國防安全\",\"內部稽核\",\"國防部門\",\"武裝部隊\",\"情報部門\",\"組織犯罪\",\"國家安全\",\"民間社會\",\"國防\",\"自然資源\",\"國民議會\",\"國防武力\",\"國防委員會\",\"國防部\",\"國防機構\",\"審計長\",\"腐敗風險\",\"武器出口\",\"安全部門\",\"組織犯罪\",\"反貪腐政策\",\"憲兵\",\"審計部\",\"收購計畫\",\"資源開發\",\"國防問題\",\"打擊貪腐\",\"財政部\",\"國防部長\",\"委員會辯護\",\"站立委員會\",\"風險評估\",\"資產處置\",\"國家安全\",\"國防部\",\"秘密專案\",\"預算外支出\",\"國防預算\",\"國防安全\",\"軍事支出\",\"武裝部隊\",\"情報部門\",\"審計長\",\"審計報告\",\"預算外軍事\",\"類別化資訊\",\"審計部\",\"國防部\",\"國防部門\",\"國防\",\"國防軍事\",\"可用資訊\",\"安全部門\",\"資訊存取\",\"機密消費\",\"處置資產\",\"未經授權私人\",\"安全情報\",\"軍工企業\",\"缺乏透明度\",\"財政部\",\"商業擁有權\",\"機密預算\",\"利益擁有權\",\"安全機構\",\"國民議會\",\"機密支出\",\"軍事人員\",\"武裝部隊\",\"守法行為\",\"國防部\",\"疏通費\",\"國防軍事\",\"義務徵兵\",\"連帶命令\",\"付薪率\",\"國防部門\",\"公務員\",\"民用軍事\",\"支付系統\",\"幽靈士兵\",\"文職人員\",\"反貪腐培訓\",\"利益衝突\",\"刑法\",\"敏感位置\",\"公職人員\",\"軍事平民\",\"連帶支付\",\"兵役\",\"國防部長\",\"國防部\",\"費率津貼\",\"數位平民\",\"國防部\",\"國防安全\",\"賄賂貪腐\",\"分離發放\",\"國防部長\",\"刑法\",\"公務員\",\"公共部門\",\"貪腐風險\",\"解決貪腐問題\",\"武裝部隊\",\"貪腐問題\",\"私人安全\",\"維持和平任務\",\"軍事理論\",\"戰略問題\",\"反貪腐培訓\",\"軍事部屬\",\"風險合約\",\"軍事發貨\",\"監督貪腐\",\"貪腐戰略\",\"軍事維和\",\"私人軍事\",\"保全公司\",\"國防部\",\"理論位址\",\"培訓位置\",\"軍事承包商\",\"培訓專業人員\",\"守法行為\",\"維持和平行動\",\"貪腐訓練\",\"風險領域\",\"國防軍事\",\"損壞監視器\",\"部屬監視器\",\"指導人員\",\"國防部門\",\"聯合國\",\"訓練指揮官\",\"評論委員證據\",\"軍事人員\",\"部屬領域\",\"軍事行動\",\"公共採購\",\"補償契約\",\"國防採購\",\"國防部\",\"國防安全\",\"投標板\",\"國防部門\",\"採購流程\",\"國家安全\",\"國防採購\",\"採購法\",\"採購週期\",\"安全採購\",\"武裝部門\",\"採購法\",\"國防\",\"採購過程\",\"國防採購\",\"採購人員\",\"武器交易\",\"代理中介\",\"主要承包商\",\"使用代理\",\"反貪腐計畫\",\"缺乏透明度\",\"國防部\",\"採購計畫\",\"守法行為\",\"協定採訪者\",\"政治影響\",\"公開法律\",\"政府採購\",\"安全原則\",\"採購契約\",\"公開競爭\",\"融資方案\",\"國防軍事\"]))\n",
    "KeyWords = list(set([\"【敦睦艦隊】\",\"海軍\",\"敦睦艦隊\",\"敦睦艦隊\",\"國防部\",\"國防部長\",\"國防部副部長\",\"染疫調查\",\"海軍司令部\",\"張哲平\"\n",
    "                     ,\"沈世偉\",\"軍醫局長\",\"總督察長\",\"黃國明\",\"史順文\",\"敦睦支隊\",\"染疫官兵\",\"磐石艦\",\"海軍官校\",\"遠洋航行訓練\",\n",
    "                     \"敦睦任務\",\"海軍官兵\",\"政戰學院\",\"【269旅中尉排長自殺】\",\"269旅中尉排長\",\"黃姓中尉排長\",\"陸軍\",\"後勤副旅長\"\n",
    "                     ,\"後勤科長\",\"旅部連連長\",\"中尉排長自殺\",\"上級霸凌\",\"營區自縊身亡\",\"高山頂陸軍\",\"桃園地方檢察署\",\"桃園地檢署\",\n",
    "                     \"同袍刁難\",\"自費購買後勤料件\",\"269旅\",\"軍官輕生\",\"陸軍司令部\",\"營內輕生\",\"營內自縊\",\"染疫官兵\",\"上級霸凌\"\n",
    "                    ,\"丁允恭\"]))\n",
    "KeyWords"
   ]
  },
  {
   "cell_type": "markdown",
   "metadata": {},
   "source": [
    "## SQLite測試"
   ]
  },
  {
   "cell_type": "code",
   "execution_count": null,
   "metadata": {},
   "outputs": [],
   "source": [
    "path = 'D://test'\n",
    "# 'D://20200912-20200420'\n",
    "\n",
    "AllFile = os.listdir(path)\n",
    "\n",
    "bar = tqdm_notebook(range(len(AllFile)))\n",
    "\n",
    "for i,webName in enumerate(bar):\n",
    "\n",
    "    if '.csv' not in AllFile[i]:\n",
    "        continue\n",
    "        \n",
    "    webName = AllFile[i].split('.csv')[0]\n",
    "    \n",
    "    if 'Gossiping' in webName:\n",
    "        webName_code = 'Gossiping'\n",
    "    else:\n",
    "        webName_code = webName\n",
    "\n",
    "    bar.set_description('正在用關鍵字搜尋：{}版'.format(webName))\n",
    "\n",
    "    FilePath = path\n",
    "#     CSV_file = os.listdir(FilePath)\n",
    "\n",
    "    # 找存了幾個_Art_Comment.csv檔\n",
    "#         num = []\n",
    "#         for eachFile in CSV_file:\n",
    "#             if \"_Art_Comment.csv\" in eachFile:\n",
    "#                 num.append(eachFile.split(\"_Art_Comment.csv\")[0])\n",
    "\n",
    "#         for j in num:\n",
    "\n",
    "    try:\n",
    "\n",
    "        df = pd.read_csv(FilePath+'\\\\'+webName+'.csv',\n",
    "                         names = [\"ArticleID\",\"PushTag\",\n",
    "                                  \"Author\",\"Title\",\"Date\",\n",
    "                                  \"Content\",\"Comment_PushTag\",\"Comment_Content\",\n",
    "                                  \"Comment_ID\",\"Crawler_at\"],\n",
    "                         encoding = 'utf-8')\n",
    "\n",
    "        df = df.fillna(\"\")\n",
    "\n",
    "        df[\"Board\"] = webName_code\n",
    "        df[\"AllKeyWords\"] = 0\n",
    "\n",
    "        if not df.empty:\n",
    "            for each in KeyWords:\n",
    "                cnt1 = df[\"Content\"].str.count(each)\n",
    "                cnt2 = df[\"Comment_Content\"].str.count(each)\n",
    "                cnt3 = df[\"Title\"].str.count(each)\n",
    "                df[\"Total \"+each] = cnt1+cnt2+cnt3\n",
    "                df[\"AllKeyWords\"] += df[\"Total \"+each]\n",
    "            df = df[df['AllKeyWords'] > 0]\n",
    "    #             df = df.drop([\"Title_Push_Tag\",\"PushTag\"],axis=1)\n",
    "\n",
    "            if not os.path.isfile(path+\"/keywords/\"+webName_code+\"_keywords.csv\"):\n",
    "                df.to_csv(path+\"/keywords/\"+webName_code+\"_keywords.csv\",encoding='utf-8',header=True,index=False)\n",
    "\n",
    "            elif os.path.isfile(path+\"/keywords/\"+webName_code+\"_keywords.csv\"):\n",
    "                df.to_csv(path+\"/keywords/\"+webName_code+\"_keywords.csv\",mode=\"a\",encoding='utf-8',header=False,index=False)\n",
    "\n",
    "        del df\n",
    "        gc.collect()\n",
    "        \n",
    "    except Exception as e:\n",
    "        print(webName,e)\n",
    "        continue"
   ]
  },
  {
   "cell_type": "markdown",
   "metadata": {},
   "source": [
    "## 拼接成一個csv"
   ]
  },
  {
   "cell_type": "code",
   "execution_count": null,
   "metadata": {},
   "outputs": [],
   "source": [
    "path = 'D://test//keywords//'\n",
    "# 20200912-20200420\n",
    "\n",
    "AllFile = os.listdir(path)\n",
    "\n",
    "# bar = tqdm_notebook(range(len(AllFile)))\n",
    "\n",
    "for i in range(0,len(AllFile),2):\n",
    "        \n",
    "#     webName = AllFile[i].split('_keywords.csv')[0]\n",
    "\n",
    "#     bar.set_description('正在用關鍵字搜尋：{}版'.format(webName))\n",
    "    if i == len(AllFile):\n",
    "        break\n",
    "    \n",
    "    df_1 = pd.read_csv(path+AllFile[i])\n",
    "    df_2 = pd.read_csv(path+AllFile[i+1])\n",
    "        \n",
    "    result = pd.concat([df_1,df_2],axis=0)\n",
    "    \n",
    "    if i==0:\n",
    "        result.to_csv(path+'All_Keywords_Results.csv',mode='a',header=True,index=False)\n",
    "\n",
    "    else:\n",
    "        result.to_csv(path+'All_Keywords_Results.csv',mode='a',header=False,index=False)"
   ]
  },
  {
   "cell_type": "code",
   "execution_count": null,
   "metadata": {},
   "outputs": [],
   "source": []
  },
  {
   "cell_type": "code",
   "execution_count": null,
   "metadata": {},
   "outputs": [],
   "source": []
  }
 ],
 "metadata": {
  "kernelspec": {
   "display_name": "Python 3",
   "language": "python",
   "name": "python3"
  },
  "language_info": {
   "codemirror_mode": {
    "name": "ipython",
    "version": 3
   },
   "file_extension": ".py",
   "mimetype": "text/x-python",
   "name": "python",
   "nbconvert_exporter": "python",
   "pygments_lexer": "ipython3",
   "version": "3.8.5"
  }
 },
 "nbformat": 4,
 "nbformat_minor": 2
}
