{
 "cells": [
  {
   "cell_type": "code",
   "execution_count": 1,
   "metadata": {},
   "outputs": [],
   "source": [
    "from ptt_crawler import *\n",
    "from datetime import datetime as dt\n",
    "import configparser\n",
    "import os\n",
    "import sqlite3 as DB\n",
    "import re\n",
    "from tqdm import tqdm_notebook"
   ]
  },
  {
   "cell_type": "code",
   "execution_count": 4,
   "metadata": {},
   "outputs": [
    {
     "ename": "ImportError",
     "evalue": "cannot import name 'get_index' from 'ptt_crawler' (C:\\Users\\madi\\Desktop\\專案作品\\ptt_crawler\\ptt_crawler.py)",
     "output_type": "error",
     "traceback": [
      "\u001b[1;31m---------------------------------------------------------------------------\u001b[0m",
      "\u001b[1;31mImportError\u001b[0m                               Traceback (most recent call last)",
      "\u001b[1;32m<ipython-input-4-59a4f2ce1f96>\u001b[0m in \u001b[0;36m<module>\u001b[1;34m\u001b[0m\n\u001b[1;32m----> 1\u001b[1;33m \u001b[1;32mfrom\u001b[0m \u001b[0mptt_crawler\u001b[0m \u001b[1;32mimport\u001b[0m \u001b[0mget_index\u001b[0m\u001b[1;33m\u001b[0m\u001b[1;33m\u001b[0m\u001b[0m\n\u001b[0m\u001b[0;32m      2\u001b[0m \u001b[0mget_index\u001b[0m\u001b[1;33m(\u001b[0m\u001b[1;34m'civil'\u001b[0m\u001b[1;33m)\u001b[0m\u001b[1;33m\u001b[0m\u001b[1;33m\u001b[0m\u001b[0m\n",
      "\u001b[1;31mImportError\u001b[0m: cannot import name 'get_index' from 'ptt_crawler' (C:\\Users\\madi\\Desktop\\專案作品\\ptt_crawler\\ptt_crawler.py)"
     ]
    }
   ],
   "source": [
    "from ptt_crawler import get_index\n",
    "get_index('civil')"
   ]
  },
  {
   "cell_type": "code",
   "execution_count": null,
   "metadata": {},
   "outputs": [],
   "source": []
  },
  {
   "cell_type": "code",
   "execution_count": 5,
   "metadata": {
    "tags": []
   },
   "outputs": [],
   "source": [
    "config = configparser.ConfigParser()\n",
    "# CMD\n",
    "# config_path = abs_path('config.ini')\n",
    "\n",
    "# TEST\n",
    "config_path = 'config - flaskTest.ini'\n",
    "if os.path.exists(config_path):\n",
    "    config.read(config_path) # 給定測試檔的路徑\n",
    "else:\n",
    "    print('Config File Loss, Quit the ptt crawler.')"
   ]
  },
  {
   "cell_type": "code",
   "execution_count": 6,
   "metadata": {},
   "outputs": [],
   "source": [
    "# webName = config['CRAWLER']['webName']\n",
    "update_pageNum = eval(config['CRAWLER']['update_pageNum'])\n",
    "proxy_url = config['ENV']['proxy_server_url']\n",
    "\n",
    "sqlite_path = config['SQL']['sqlite_path']\n",
    "boardlist = eval(config['CRAWLER']['boardlist'])\n",
    "deadline = config['CRAWLER']['deadline']\n",
    "token = config['NOTIFY']['token']"
   ]
  },
  {
   "cell_type": "code",
   "execution_count": 8,
   "metadata": {},
   "outputs": [],
   "source": [
    "#定義資料庫位置\n",
    "[conndb,curr] = get_DB(sqlite_path)"
   ]
  },
  {
   "cell_type": "code",
   "execution_count": 10,
   "metadata": {},
   "outputs": [
    {
     "data": {
      "text/plain": [
       "['Beauty', 'Soft_Job', 'NBA', 'Stock', 'Tech_Job']"
      ]
     },
     "execution_count": 10,
     "metadata": {},
     "output_type": "execute_result"
    }
   ],
   "source": [
    "boardlist"
   ]
  },
  {
   "cell_type": "code",
   "execution_count": 11,
   "metadata": {},
   "outputs": [
    {
     "data": {
      "text/plain": [
       "'2020/12/18'"
      ]
     },
     "execution_count": 11,
     "metadata": {},
     "output_type": "execute_result"
    }
   ],
   "source": [
    "deadline"
   ]
  },
  {
   "cell_type": "code",
   "execution_count": 10,
   "metadata": {
    "tags": []
   },
   "outputs": [
    {
     "name": "stdout",
     "output_type": "stream",
     "text": [
      "deadline: 2020/12/1\n"
     ]
    },
    {
     "name": "stderr",
     "output_type": "stream",
     "text": [
      "<ipython-input-10-104cb2a33375>:8: TqdmDeprecationWarning: This function will be removed in tqdm==5.0.0\n",
      "Please use `tqdm.notebook.tqdm` instead of `tqdm.tqdm_notebook`\n",
      "  bar = tqdm_notebook(boardlist)\n"
     ]
    },
    {
     "data": {
      "application/vnd.jupyter.widget-view+json": {
       "model_id": "5bf952a1aa8f45f9868ed47f149863cd",
       "version_major": 2,
       "version_minor": 0
      },
      "text/plain": [
       "HBox(children=(HTML(value=''), FloatProgress(value=0.0, max=5.0), HTML(value='')))"
      ]
     },
     "metadata": {},
     "output_type": "display_data"
    },
    {
     "name": "stdout",
     "output_type": "stream",
     "text": [
      "/bbs/NBA/M.1606881021.A.8DA.html 此篇找不到文章的時間資訊!!\n",
      "/bbs/Stock/M.1606779306.A.626.html 此篇找不到文章的時間資訊!!\n",
      "\n"
     ]
    }
   ],
   "source": [
    "# first/second包在一起(main)\n",
    "# boardlist = ['HatePolitics']\n",
    "\n",
    "print('deadline: %s' %deadline)\n",
    "\n",
    "# deadline轉成日期型態\n",
    "if type(deadline) == str:\n",
    "    deadline = dt.strptime(deadline,'%Y/%m/%d')\n",
    "\n",
    "bar = tqdm_notebook(boardlist)\n",
    "\n",
    "for i,webName in enumerate(bar):\n",
    "    \n",
    "    # 取得首頁\n",
    "    web_index = get_index(webName)\n",
    "    \n",
    "    # 判斷table是否存在 -> 存在就是第二次爬蟲\n",
    "    if checkTableisExist(conndb,curr,webName):\n",
    "        bar.set_description('%s already exists, start crawling and updating!' %webName)\n",
    "        Second_Crawling(conndb,curr,webName,deadline,token,web_index,update_pageNum)\n",
    "    \n",
    "    # 判斷table是否存在 -> 不存在就是第一次爬蟲\n",
    "    else:\n",
    "        bar.set_description('%s does not exist yet, start crawling!' %webName)\n",
    "        First_Crawling(conndb,curr,webName,deadline,token,web_index)\n",
    "    \n",
    "    # 存檔\n",
    "    conndb.commit()"
   ]
  },
  {
   "cell_type": "code",
   "execution_count": 10,
   "metadata": {},
   "outputs": [],
   "source": []
  },
  {
   "cell_type": "code",
   "execution_count": null,
   "metadata": {},
   "outputs": [],
   "source": [
    "# 若程式出錯，直接用First_Crawling從該版的第幾頁開始爬蟲"
   ]
  },
  {
   "cell_type": "code",
   "execution_count": null,
   "metadata": {
    "tags": []
   },
   "outputs": [],
   "source": [
    "print('deadline: %s' %deadline)\n",
    "if type(deadline) == str:\n",
    "    deadline = dt.strptime(deadline,'%Y/%m/%d')\n",
    "webName = 'HatePolitics'\n",
    "website = '/bbs/HatePolitics/index3963.html'\n",
    "First_Crawling(conndb, curr, webName, deadline, token, website)"
   ]
  },
  {
   "cell_type": "code",
   "execution_count": null,
   "metadata": {
    "tags": []
   },
   "outputs": [],
   "source": [
    "# TODO\n",
    "# insert code? 餘數時 -> 出錯 -> ok\n",
    "# curr.execute一句話出錯?? -> ok\n",
    "# format loop? -> ok"
   ]
  },
  {
   "cell_type": "code",
   "execution_count": null,
   "metadata": {
    "tags": []
   },
   "outputs": [],
   "source": [
    "# webName = '123'\n",
    "index = ['k1','k2','k3','k4','k5','k6','k7','k8','k9','k10']\n",
    "data = ['1',\"aa\",'3','123','1233',123,4,5,6,7]\n",
    "ins_data = dict(zip(index,data))\n",
    "execute_code = ''\n",
    "execute_code += 'INSERT INTO IA VALUES(\"{k1}\",\"{k2}\",\"{k3}\",\"{k4}\",\"{k5}\",\"{k6}\",\"{k7}\",\"{k8}\",\"{k9}\",\"{k10}\");'.format(**ins_data)\n",
    "# execute_code += execute_code\n",
    "curr.executescript(execute_code)\n",
    "# pc.save_to_DB(conndb,curr,execute_code)"
   ]
  },
  {
   "cell_type": "markdown",
   "metadata": {},
   "source": [
    "### DONE:\n",
    "1. def update\n",
    "2. N_page(2) -> _save_to_SQlite內部判斷要insert新資料或是update舊資料\n",
    "3. 同頁超過截止日期會先update再丟給N_Page\n",
    "\n",
    "### TODO:\n",
    "1. 時間attr/index錯誤 -> ok (byPage & byDate需整合)\n",
    "2. first/second包在一起(main) -> ok\n",
    "\n",
    "3. errorlog.txt -> 研究python的logging套件\n",
    "4. 參數傳遞確認是否可以減瘦\n",
    "5. 發現update即使資料庫沒資料也不會出錯，只是不會寫入而已 -> 因為我continue\n",
    "6. insert/update串成字句再一次呼叫curr -> 會有encoding的問題，改成用executemany(?,?,?..)的方式解決，[tuple(data),..] -> ok  \n",
    "7. pc再增加遠程/近程的函式"
   ]
  },
  {
   "cell_type": "code",
   "execution_count": null,
   "metadata": {},
   "outputs": [],
   "source": []
  }
 ],
 "metadata": {
  "kernelspec": {
   "display_name": "Python 3",
   "language": "python",
   "name": "python3"
  },
  "language_info": {
   "codemirror_mode": {
    "name": "ipython",
    "version": 3
   },
   "file_extension": ".py",
   "mimetype": "text/x-python",
   "name": "python",
   "nbconvert_exporter": "python",
   "pygments_lexer": "ipython3",
   "version": "3.8.5"
  }
 },
 "nbformat": 4,
 "nbformat_minor": 4
}
